{
 "cells": [
  {
   "cell_type": "markdown",
   "metadata": {},
   "source": [
    "# This notebook is created for Coursera IBM Capstone project\n",
    "### Final project (WEEK4)  Introduction/Business Problem and Data"
   ]
  },
  {
   "cell_type": "markdown",
   "metadata": {},
   "source": [
    "## Housing sales prices and venues data analysis for Baku neighborhoods"
   ]
  },
  {
   "cell_type": "markdown",
   "metadata": {},
   "source": [
    "## Table of contents\n",
    "* [Introduction: Business Problem](#introduction)\n",
    "* [Data](#data)\n"
   ]
  },
  {
   "cell_type": "markdown",
   "metadata": {},
   "source": [
    "## Introduction: Business Problem <a name=\"introduction\"></a>"
   ]
  },
  {
   "cell_type": "markdown",
   "metadata": {},
   "source": [
    "\n",
    "In this project we will try be helpful for those who plans to invest into properties and venues in Baku, the capital of Azerbaijan. Taking into consideration dynamic urban life, the main criterias for selection will be developed public transport infrastructure, variety and density of venues and social places  in the neighbourhood which is under consideration. As a city resident who plans to buy apartment for instance , the objective  might be to choose the regions where real estate values are lower taking into account main criterias mentioned here above. Similarly  investors expect the districts where there is a lower real estate cost and the type of business they want to install is less intense. \n",
    "Despite it is difficult to obtain information that will guide investors and property buyers in this direction, proper data selection and representation will certainly be useful for solving the problem. \n",
    "When we consider above mentioned  selection criterias, we can create a map and information chart where the real estate index is placed in Baku and each district is clustered according to the venue density apartment  price"
   ]
  },
  {
   "cell_type": "markdown",
   "metadata": {},
   "source": [
    "## Data <a name=\"data\"></a>"
   ]
  },
  {
   "cell_type": "markdown",
   "metadata": {},
   "source": [
    "I have used following data to work for our analysis:\n",
    "\t \n",
    "*\tAdministrative division and geographic coordinates for divisions and subdivisions from Wikipedia and using Google Map, ‘Search Nearby’ option to get the centre coordinates of the each districts (administrative division)\n",
    "https://en.wikipedia.org/wiki/Baku#Administrative_divisions\n",
    "*   Foursquare API to get the most common venues of given districts of Baku\n",
    "*\tInformation about appartments’ sales prices from property retail web-site https://bina.az\n",
    "*\tInformation about transportation hub – list of Baku metro stations their coordinates from Wikipedia\n"
   ]
  },
  {
   "cell_type": "code",
   "execution_count": null,
   "metadata": {},
   "outputs": [],
   "source": []
  }
 ],
 "metadata": {
  "kernelspec": {
   "display_name": "Python 3",
   "language": "python",
   "name": "python3"
  },
  "language_info": {
   "codemirror_mode": {
    "name": "ipython",
    "version": 3
   },
   "file_extension": ".py",
   "mimetype": "text/x-python",
   "name": "python",
   "nbconvert_exporter": "python",
   "pygments_lexer": "ipython3",
   "version": "3.6.8"
  }
 },
 "nbformat": 4,
 "nbformat_minor": 2
}
